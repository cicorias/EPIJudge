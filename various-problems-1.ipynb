{
 "cells": [
  {
   "cell_type": "code",
   "execution_count": 8,
   "metadata": {},
   "outputs": [
    {
     "name": "stdout",
     "output_type": "stream",
     "text": [
      "bits for 0 is 0\n",
      "0\n",
      "bits for 2 is 1\n",
      "True\n",
      "bits for 3 is 2\n",
      "True\n",
      "bits for 22 is 3\n",
      "True\n",
      "bits for 123456 is 6\n",
      "True\n"
     ]
    }
   ],
   "source": [
    "from typing import Any\n",
    "def perform(fun, *args, result:Any = None):\n",
    "    if result:\n",
    "        print(fun(*args) == result)\n",
    "    else:\n",
    "        print(fun(*args))\n",
    "\n",
    "def count_bits(x: int) -> int:\n",
    "    # TODO - you fill in here.\n",
    "    x_orig = x\n",
    "    num_bits = 0\n",
    "    while x:\n",
    "        num_bits += x & 1\n",
    "        x >>= 1\n",
    "\n",
    "    print(f'bits for {x_orig} is {num_bits}')\n",
    "    return num_bits\n",
    "\n",
    "perform(count_bits, 0, result = 0)\n",
    "perform(count_bits, 2, result = 1)\n",
    "perform(count_bits, 3, result = 2)\n",
    "perform(count_bits, 22, result = 3)\n",
    "perform(count_bits, 123456, result = 6)\n"
   ]
  },
  {
   "cell_type": "code",
   "execution_count": 9,
   "metadata": {},
   "outputs": [
    {
     "name": "stdout",
     "output_type": "stream",
     "text": [
      "[\"-2\", \"-6\", \"1\", \"-7\", \"-4\", \"-1\", \"3\"]\n",
      "[\"2\", \"-1\", \"5\", \"-2\", \"1\", \"3\"]\n"
     ]
    }
   ],
   "source": [
    "def equal_binary_trees(tree1, tree2):\n",
    "    s = [(tree1, tree2)]\n",
    "\n",
    "    while s:\n",
    "        node1, node2 = s.pop()\n",
    "\n",
    "        if (node1 is None) != (node2 is None):\n",
    "            return False\n",
    "\n",
    "        if node1:\n",
    "            if node1.data != node2.data:\n",
    "                return False\n",
    "            s.append((node1.left, node2.left))\n",
    "            s.append((node1.right, node2.right))\n",
    "\n",
    "    return True\n",
    "\n",
    "import collections\n",
    "\n",
    "def binary_tree_to_string(tree):\n",
    "    result = ''\n",
    "    nodes = collections.deque()\n",
    "    visited = set()\n",
    "    first = True\n",
    "    null_nodes_pending = 0\n",
    "\n",
    "    result += '['\n",
    "    nodes.append(tree)\n",
    "\n",
    "    while nodes:\n",
    "        node = nodes.popleft()\n",
    "        if id(node) in visited:\n",
    "            raise RuntimeError('Detected a cycle in the tree')\n",
    "        if node:\n",
    "            if first:\n",
    "                first = False\n",
    "            else:\n",
    "                result += ', '\n",
    "\n",
    "            while null_nodes_pending:\n",
    "                result += 'null, '\n",
    "                null_nodes_pending -= 1\n",
    "\n",
    "            result += '\"{}\"'.format(node.data)\n",
    "\n",
    "            visited.add(id(node))\n",
    "            nodes.append(node.left)\n",
    "            nodes.append(node.right)\n",
    "        else:\n",
    "            null_nodes_pending += 1\n",
    "\n",
    "    result += ']'\n",
    "    return result\n",
    "\n",
    "class BstNode:\n",
    "    def __init__(self, data=None, left=None, right=None):\n",
    "        self.data, self.left, self.right = data, left, right\n",
    "\n",
    "    def __eq__(self, other):\n",
    "        return equal_binary_trees(self, other)\n",
    "\n",
    "    def __repr__(self):\n",
    "        return str(binary_tree_to_string(self))\n",
    "\n",
    "    def __str__(self):\n",
    "        return self.__repr__()\n",
    "\n",
    "\n",
    "from typing import List, Optional\n",
    "def build_min_height_bst_from_sorted_array(A: List[int]) -> Optional[BstNode]:\n",
    "    # TODO - you fill in here.\n",
    "    def build_min_height_bst_from_sorted_subarray(start, end):\n",
    "        if start >= end:\n",
    "            return None\n",
    "        mid = (start + end) // 2\n",
    "        return BstNode(A[mid],\n",
    "                       build_min_height_bst_from_sorted_subarray(start, mid),\n",
    "                       build_min_height_bst_from_sorted_subarray(mid + 1, end))\n",
    "\n",
    "    return build_min_height_bst_from_sorted_subarray(0, len(A))\n",
    "\n",
    "\n",
    "\n",
    "perform(build_min_height_bst_from_sorted_array, [-7, -6, -4, -2, -1, 1, 3])\n",
    "perform(build_min_height_bst_from_sorted_array,[-2, -1, 1, 2, 3, 5])\n"
   ]
  },
  {
   "cell_type": "code",
   "execution_count": 5,
   "metadata": {},
   "outputs": [
    {
     "name": "stdout",
     "output_type": "stream",
     "text": [
      "[\"2\", \"-1\", \"5\", \"-2\", \"1\", \"3\"]\n"
     ]
    },
    {
     "data": {
      "text/plain": "[['', '', '', '2', '', '', ''],\n ['', '-1', '', '', '', '5', ''],\n ['-2', '', '1', '', '3', '', '']]"
     },
     "execution_count": 5,
     "metadata": {},
     "output_type": "execute_result"
    }
   ],
   "source": [
    "def printTree(root: BstNode) -> List[List[str]]:\n",
    "    \n",
    "    def dfs_height(node):\n",
    "        if not node:\n",
    "            return 0\n",
    "        left_height = dfs_height(node.left)\n",
    "        right_height = dfs_height(node.right)\n",
    "        return max(left_height, right_height) + 1\n",
    "    \n",
    "    height = dfs_height(root)\n",
    "    col = 2**height - 1\n",
    "    matrix = [[\"\" for _ in range(col)]for _ in range(height)]\n",
    "        \n",
    "    def build_matrix(node, left, right, row):\n",
    "        if not node:\n",
    "            return\n",
    "        mid = (left + right) // 2\n",
    "        matrix[row][mid] = str(node.data)\n",
    "        build_matrix(node.left, left, mid -1, row + 1)\n",
    "        build_matrix(node.right, mid + 1, right, row + 1)\n",
    "        \n",
    "    \n",
    "    build_matrix(root, 0, col, 0)    \n",
    "    return matrix\n",
    "\n",
    "\n",
    "rv = build_min_height_bst_from_sorted_array([-2, -1, 1, 2, 3, 5])\n",
    "print(rv)\n",
    "printTree(rv)"
   ]
  },
  {
   "cell_type": "code",
   "execution_count": 10,
   "metadata": {},
   "outputs": [
    {
     "name": "stdout",
     "output_type": "stream",
     "text": [
      "True\n",
      "True\n"
     ]
    }
   ],
   "source": [
    "def is_balanced_binary_tree(tree: BstNode) -> bool:\n",
    "\n",
    "    BalancedStatusWithHeight = collections.namedtuple(\n",
    "        'BalancedStatusWithHeight', ('balanced', 'height'))\n",
    "\n",
    "    # First value of the return value indicates if tree is balanced, and if\n",
    "    # balanced the second value of the return value is the height of tree.\n",
    "    def check_balanced(tree):\n",
    "        if not tree:\n",
    "            return BalancedStatusWithHeight(balanced=True, height=-1)\n",
    "\n",
    "        left_result = check_balanced(tree.left)\n",
    "        if not left_result.balanced:\n",
    "            return left_result\n",
    "\n",
    "        right_result = check_balanced(tree.right)\n",
    "        if not right_result.balanced:\n",
    "            return right_result\n",
    "\n",
    "        is_balanced = abs(left_result.height - right_result.height) <= 1\n",
    "        height = max(left_result.height, right_result.height) + 1\n",
    "        return BalancedStatusWithHeight(is_balanced, height)\n",
    "\n",
    "    return check_balanced(tree).balanced\n",
    "\n",
    "\n",
    "print(is_balanced_binary_tree(rv))\n",
    "\n",
    "print(is_balanced_binary_tree(build_min_height_bst_from_sorted_array([-7, -6, -4, -2, -1, 1, 3])))\n"
   ]
  }
 ],
 "metadata": {
  "kernelspec": {
   "display_name": "Python 3.8.10 64-bit ('.venv': venv)",
   "name": "python3810jvsc74a57bd09f655d9ee65b06330ace2b6146d1a878073b6bfa96fdec51b40f72554f7e8a0b"
  },
  "language_info": {
   "codemirror_mode": {
    "name": "ipython",
    "version": 3
   },
   "file_extension": ".py",
   "mimetype": "text/x-python",
   "name": "python",
   "nbconvert_exporter": "python",
   "pygments_lexer": "ipython3",
   "version": "3.8.10"
  },
  "orig_nbformat": 2
 },
 "nbformat": 4,
 "nbformat_minor": 2
}